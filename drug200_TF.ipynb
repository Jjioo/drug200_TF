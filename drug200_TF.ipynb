{
  "nbformat": 4,
  "nbformat_minor": 0,
  "metadata": {
    "colab": {
      "provenance": []
    },
    "kernelspec": {
      "name": "python3",
      "display_name": "Python 3"
    },
    "language_info": {
      "name": "python"
    }
  },
  "cells": [
    {
      "cell_type": "code",
      "source": [
        "import warnings\n",
        "warnings.filterwarnings(\"ignore\")"
      ],
      "metadata": {
        "id": "h8Q3ZBVwk9aa"
      },
      "execution_count": 81,
      "outputs": []
    },
    {
      "cell_type": "code",
      "execution_count": 82,
      "metadata": {
        "id": "yDUqIvm6nXN0"
      },
      "outputs": [],
      "source": [
        "import numpy as np\n",
        "import pandas as pd\n",
        "import matplotlib.pyplot as plt\n",
        "import tensorflow as tf\n",
        "import seaborn as sns\n",
        "from sklearn.preprocessing import StandardScaler\n",
        "from sklearn.model_selection import train_test_split\n",
        "from imblearn.over_sampling import RandomOverSampler\n",
        "from sklearn.preprocessing import OneHotEncoder\n",
        "from sklearn.impute import SimpleImputer\n",
        "from sklearn.compose import ColumnTransformer\n",
        "from keras.callbacks import ProgbarLogger\n",
        "from sklearn.model_selection import GridSearchCV\n",
        "from scikeras.wrappers import KerasClassifier #!pip install scikeras\n",
        "from keras.callbacks import ProgbarLogger"
      ]
    },
    {
      "cell_type": "code",
      "source": [
        "df = pd.read_csv('drug200.csv')\n",
        "set(df[df.columns[-1]]) #df['Drug']"
      ],
      "metadata": {
        "colab": {
          "base_uri": "https://localhost:8080/"
        },
        "id": "ayBTW3PfnugB",
        "outputId": "b978acda-2363-456b-feb7-0e122c50a28f"
      },
      "execution_count": 119,
      "outputs": [
        {
          "output_type": "execute_result",
          "data": {
            "text/plain": [
              "{'DrugY', 'drugA', 'drugB', 'drugC', 'drugX'}"
            ]
          },
          "metadata": {},
          "execution_count": 119
        }
      ]
    },
    {
      "cell_type": "code",
      "source": [
        "#df['Embarked'] = df['Embarked'].fillna(method='ffill')\n",
        "\n",
        "# One-hot encode 'Embarked' column\n",
        "onehot_encoder = OneHotEncoder(sparse=False, drop='if_binary')\n",
        "onehot_encoded = onehot_encoder.fit_transform(df[['Drug']])\n",
        "df[\n",
        "    ['DrugY', 'drugA', 'drugB', 'drugC', 'drugX']\n",
        "    ] = onehot_encoded\n",
        "\n",
        "# Create a mapping dictionary for regrouping\n",
        "embarked_mapping = {'DrugY': 1, 'drugA': 2, 'drugB': 3, 'drugC': 4, 'drugX': 5}\n",
        "\n",
        "# Create 'Embarked' column by mapping the encoded values\n",
        "df['Drug'] = df[['DrugY', 'drugA', 'drugB', 'drugC', 'drugX']].idxmax(axis=1)\n",
        "df['Drug'] = df['Drug'].map(embarked_mapping)\n",
        "\n",
        "# Drop the one-hot encoded columns\n",
        "df.drop(['DrugY', 'drugA', 'drugB', 'drugC', 'drugX'], axis=1, inplace=True)"
      ],
      "metadata": {
        "id": "Biived20n2No"
      },
      "execution_count": 120,
      "outputs": []
    },
    {
      "cell_type": "code",
      "source": [
        "set(df[df.columns[-1]])"
      ],
      "metadata": {
        "colab": {
          "base_uri": "https://localhost:8080/"
        },
        "id": "vspDXvm3oMBv",
        "outputId": "48549807-c854-484e-a7d0-696da5b3ea46"
      },
      "execution_count": 121,
      "outputs": [
        {
          "output_type": "execute_result",
          "data": {
            "text/plain": [
              "{1, 2, 3, 4, 5}"
            ]
          },
          "metadata": {},
          "execution_count": 121
        }
      ]
    },
    {
      "cell_type": "code",
      "source": [
        "set(df[\"Cholesterol\"])"
      ],
      "metadata": {
        "colab": {
          "base_uri": "https://localhost:8080/"
        },
        "id": "SM6V8K4h0bNO",
        "outputId": "ca59388c-500a-4625-93bc-fefa945bd860"
      },
      "execution_count": 122,
      "outputs": [
        {
          "output_type": "execute_result",
          "data": {
            "text/plain": [
              "{'HIGH', 'NORMAL'}"
            ]
          },
          "metadata": {},
          "execution_count": 122
        }
      ]
    },
    {
      "cell_type": "code",
      "source": [
        "sex_mapping = {'HIGH': 0, 'LOW': 1,'NORMAL':2}\n",
        "df['BP'] = df['BP'].map(sex_mapping)"
      ],
      "metadata": {
        "id": "SRCWk5xNrxFf"
      },
      "execution_count": 123,
      "outputs": []
    },
    {
      "cell_type": "code",
      "source": [
        "sex_mapping = {'F': 0, 'M': 1}\n",
        "df['Sex'] = df['Sex'].map(sex_mapping)"
      ],
      "metadata": {
        "id": "yuQAPsPY050h"
      },
      "execution_count": 124,
      "outputs": []
    },
    {
      "cell_type": "code",
      "source": [
        "sex_mapping = {'HIGH': 0, 'NORMAL': 1}\n",
        "df['Cholesterol'] = df['Cholesterol'].map(sex_mapping)"
      ],
      "metadata": {
        "id": "dtHx7x1w1FRI"
      },
      "execution_count": 125,
      "outputs": []
    },
    {
      "cell_type": "code",
      "source": [
        "df.head(5)"
      ],
      "metadata": {
        "colab": {
          "base_uri": "https://localhost:8080/",
          "height": 206
        },
        "id": "U22h4ZARrMp3",
        "outputId": "45e1360c-891f-4ccf-906a-844eef487034"
      },
      "execution_count": 126,
      "outputs": [
        {
          "output_type": "execute_result",
          "data": {
            "text/plain": [
              "   Age  Sex  BP  Cholesterol  Na_to_K  Drug\n",
              "0   23    0   0            0   25.355     1\n",
              "1   47    1   1            0   13.093     4\n",
              "2   47    1   1            0   10.114     4\n",
              "3   28    0   2            0    7.798     5\n",
              "4   61    0   1            0   18.043     1"
            ],
            "text/html": [
              "\n",
              "  <div id=\"df-646f41ce-a1f9-4457-ac40-9ec65057a3ee\">\n",
              "    <div class=\"colab-df-container\">\n",
              "      <div>\n",
              "<style scoped>\n",
              "    .dataframe tbody tr th:only-of-type {\n",
              "        vertical-align: middle;\n",
              "    }\n",
              "\n",
              "    .dataframe tbody tr th {\n",
              "        vertical-align: top;\n",
              "    }\n",
              "\n",
              "    .dataframe thead th {\n",
              "        text-align: right;\n",
              "    }\n",
              "</style>\n",
              "<table border=\"1\" class=\"dataframe\">\n",
              "  <thead>\n",
              "    <tr style=\"text-align: right;\">\n",
              "      <th></th>\n",
              "      <th>Age</th>\n",
              "      <th>Sex</th>\n",
              "      <th>BP</th>\n",
              "      <th>Cholesterol</th>\n",
              "      <th>Na_to_K</th>\n",
              "      <th>Drug</th>\n",
              "    </tr>\n",
              "  </thead>\n",
              "  <tbody>\n",
              "    <tr>\n",
              "      <th>0</th>\n",
              "      <td>23</td>\n",
              "      <td>0</td>\n",
              "      <td>0</td>\n",
              "      <td>0</td>\n",
              "      <td>25.355</td>\n",
              "      <td>1</td>\n",
              "    </tr>\n",
              "    <tr>\n",
              "      <th>1</th>\n",
              "      <td>47</td>\n",
              "      <td>1</td>\n",
              "      <td>1</td>\n",
              "      <td>0</td>\n",
              "      <td>13.093</td>\n",
              "      <td>4</td>\n",
              "    </tr>\n",
              "    <tr>\n",
              "      <th>2</th>\n",
              "      <td>47</td>\n",
              "      <td>1</td>\n",
              "      <td>1</td>\n",
              "      <td>0</td>\n",
              "      <td>10.114</td>\n",
              "      <td>4</td>\n",
              "    </tr>\n",
              "    <tr>\n",
              "      <th>3</th>\n",
              "      <td>28</td>\n",
              "      <td>0</td>\n",
              "      <td>2</td>\n",
              "      <td>0</td>\n",
              "      <td>7.798</td>\n",
              "      <td>5</td>\n",
              "    </tr>\n",
              "    <tr>\n",
              "      <th>4</th>\n",
              "      <td>61</td>\n",
              "      <td>0</td>\n",
              "      <td>1</td>\n",
              "      <td>0</td>\n",
              "      <td>18.043</td>\n",
              "      <td>1</td>\n",
              "    </tr>\n",
              "  </tbody>\n",
              "</table>\n",
              "</div>\n",
              "      <button class=\"colab-df-convert\" onclick=\"convertToInteractive('df-646f41ce-a1f9-4457-ac40-9ec65057a3ee')\"\n",
              "              title=\"Convert this dataframe to an interactive table.\"\n",
              "              style=\"display:none;\">\n",
              "        \n",
              "  <svg xmlns=\"http://www.w3.org/2000/svg\" height=\"24px\"viewBox=\"0 0 24 24\"\n",
              "       width=\"24px\">\n",
              "    <path d=\"M0 0h24v24H0V0z\" fill=\"none\"/>\n",
              "    <path d=\"M18.56 5.44l.94 2.06.94-2.06 2.06-.94-2.06-.94-.94-2.06-.94 2.06-2.06.94zm-11 1L8.5 8.5l.94-2.06 2.06-.94-2.06-.94L8.5 2.5l-.94 2.06-2.06.94zm10 10l.94 2.06.94-2.06 2.06-.94-2.06-.94-.94-2.06-.94 2.06-2.06.94z\"/><path d=\"M17.41 7.96l-1.37-1.37c-.4-.4-.92-.59-1.43-.59-.52 0-1.04.2-1.43.59L10.3 9.45l-7.72 7.72c-.78.78-.78 2.05 0 2.83L4 21.41c.39.39.9.59 1.41.59.51 0 1.02-.2 1.41-.59l7.78-7.78 2.81-2.81c.8-.78.8-2.07 0-2.86zM5.41 20L4 18.59l7.72-7.72 1.47 1.35L5.41 20z\"/>\n",
              "  </svg>\n",
              "      </button>\n",
              "      \n",
              "  <style>\n",
              "    .colab-df-container {\n",
              "      display:flex;\n",
              "      flex-wrap:wrap;\n",
              "      gap: 12px;\n",
              "    }\n",
              "\n",
              "    .colab-df-convert {\n",
              "      background-color: #E8F0FE;\n",
              "      border: none;\n",
              "      border-radius: 50%;\n",
              "      cursor: pointer;\n",
              "      display: none;\n",
              "      fill: #1967D2;\n",
              "      height: 32px;\n",
              "      padding: 0 0 0 0;\n",
              "      width: 32px;\n",
              "    }\n",
              "\n",
              "    .colab-df-convert:hover {\n",
              "      background-color: #E2EBFA;\n",
              "      box-shadow: 0px 1px 2px rgba(60, 64, 67, 0.3), 0px 1px 3px 1px rgba(60, 64, 67, 0.15);\n",
              "      fill: #174EA6;\n",
              "    }\n",
              "\n",
              "    [theme=dark] .colab-df-convert {\n",
              "      background-color: #3B4455;\n",
              "      fill: #D2E3FC;\n",
              "    }\n",
              "\n",
              "    [theme=dark] .colab-df-convert:hover {\n",
              "      background-color: #434B5C;\n",
              "      box-shadow: 0px 1px 3px 1px rgba(0, 0, 0, 0.15);\n",
              "      filter: drop-shadow(0px 1px 2px rgba(0, 0, 0, 0.3));\n",
              "      fill: #FFFFFF;\n",
              "    }\n",
              "  </style>\n",
              "\n",
              "      <script>\n",
              "        const buttonEl =\n",
              "          document.querySelector('#df-646f41ce-a1f9-4457-ac40-9ec65057a3ee button.colab-df-convert');\n",
              "        buttonEl.style.display =\n",
              "          google.colab.kernel.accessAllowed ? 'block' : 'none';\n",
              "\n",
              "        async function convertToInteractive(key) {\n",
              "          const element = document.querySelector('#df-646f41ce-a1f9-4457-ac40-9ec65057a3ee');\n",
              "          const dataTable =\n",
              "            await google.colab.kernel.invokeFunction('convertToInteractive',\n",
              "                                                     [key], {});\n",
              "          if (!dataTable) return;\n",
              "\n",
              "          const docLinkHtml = 'Like what you see? Visit the ' +\n",
              "            '<a target=\"_blank\" href=https://colab.research.google.com/notebooks/data_table.ipynb>data table notebook</a>'\n",
              "            + ' to learn more about interactive tables.';\n",
              "          element.innerHTML = '';\n",
              "          dataTable['output_type'] = 'display_data';\n",
              "          await google.colab.output.renderOutput(dataTable, element);\n",
              "          const docLink = document.createElement('div');\n",
              "          docLink.innerHTML = docLinkHtml;\n",
              "          element.appendChild(docLink);\n",
              "        }\n",
              "      </script>\n",
              "    </div>\n",
              "  </div>\n",
              "  "
            ]
          },
          "metadata": {},
          "execution_count": 126
        }
      ]
    },
    {
      "cell_type": "code",
      "source": [
        "# Separate the features (X) and target variable (y)\n",
        "X = df.iloc[:, :-1].values\n",
        "y = df.iloc[:, -1].values"
      ],
      "metadata": {
        "id": "TfDexey8oQBc"
      },
      "execution_count": 127,
      "outputs": []
    },
    {
      "cell_type": "code",
      "source": [
        "preprocessor = ColumnTransformer(transformers=[('num', SimpleImputer(strategy='median'), slice(0, None))])\n",
        "\n",
        "# Preprocess the numerical columns\n",
        "X = preprocessor.fit_transform(X)"
      ],
      "metadata": {
        "id": "CcA5MVWpq5pI"
      },
      "execution_count": 128,
      "outputs": []
    },
    {
      "cell_type": "code",
      "source": [
        "(len(df[df[\"Drug\"] == 1]),len(df[df[\"Drug\"] == 2]),len(df[df[\"Drug\"] == 3]),len(df[df[\"Drug\"] == 4]),len(df[df[\"Drug\"] == 5]))"
      ],
      "metadata": {
        "colab": {
          "base_uri": "https://localhost:8080/"
        },
        "id": "5A1xxbPJq953",
        "outputId": "ccf6fed5-d8a8-40d7-cde5-e9e3c115b84a"
      },
      "execution_count": 129,
      "outputs": [
        {
          "output_type": "execute_result",
          "data": {
            "text/plain": [
              "(91, 23, 16, 16, 54)"
            ]
          },
          "metadata": {},
          "execution_count": 129
        }
      ]
    },
    {
      "cell_type": "code",
      "source": [
        "over = RandomOverSampler()\n",
        "X,y = over.fit_resample(X,y)\n",
        "data = np.concatenate((X, y.reshape(-1, 1)), axis=1)\n",
        "\n",
        "\n",
        "data = np.hstack(\n",
        "    (X,np.reshape(y,(-1,1)))\n",
        ")\n",
        "df = pd.DataFrame(data,columns=df.columns)\n"
      ],
      "metadata": {
        "id": "yumzNiB-sQYQ"
      },
      "execution_count": 130,
      "outputs": []
    },
    {
      "cell_type": "code",
      "source": [
        "scaler = StandardScaler()\n",
        "X = scaler.fit_transform(X)"
      ],
      "metadata": {
        "id": "cYSWXsXaswAl"
      },
      "execution_count": 141,
      "outputs": []
    },
    {
      "cell_type": "code",
      "source": [
        "(len(df[df[\"Drug\"] == 1]),len(df[df[\"Drug\"] == 2]),len(df[df[\"Drug\"] == 3]),len(df[df[\"Drug\"] == 4]),len(df[df[\"Drug\"] == 5]))"
      ],
      "metadata": {
        "colab": {
          "base_uri": "https://localhost:8080/"
        },
        "id": "_kGIyOdzs0jb",
        "outputId": "e4bcd7fa-95a5-414f-9d2e-d183fc702824"
      },
      "execution_count": 142,
      "outputs": [
        {
          "output_type": "execute_result",
          "data": {
            "text/plain": [
              "(91, 91, 91, 91, 91)"
            ]
          },
          "metadata": {},
          "execution_count": 142
        }
      ]
    },
    {
      "cell_type": "code",
      "source": [
        "X_train,X_temp,y_train,y_temp = train_test_split(X,y,test_size=.1,random_state=0)\n",
        "X_valid,X_test,y_valid,y_test = train_test_split(X_temp,y_temp,test_size=.2,random_state=0)"
      ],
      "metadata": {
        "id": "j6vKUTKIs3Gg"
      },
      "execution_count": 155,
      "outputs": []
    },
    {
      "cell_type": "code",
      "source": [
        "# Check for missing or NaN values in X_train (numpy array)\n",
        "missing_values = np.isnan(X_train).sum() if isinstance(X_train, np.ndarray) else 0\n",
        "print(missing_values)"
      ],
      "metadata": {
        "colab": {
          "base_uri": "https://localhost:8080/"
        },
        "id": "FV1xWtfUuBOX",
        "outputId": "a55c173c-c2d4-440a-8006-530e97614a33"
      },
      "execution_count": 156,
      "outputs": [
        {
          "output_type": "stream",
          "name": "stdout",
          "text": [
            "0\n"
          ]
        }
      ]
    },
    {
      "cell_type": "code",
      "source": [
        "# Create an instance of the OneHotEncoder\n",
        "encoder = OneHotEncoder(sparse=False)\n",
        "\n",
        "# Reshape the target data to have a single column\n",
        "y_train_reshaped = y_train.reshape(-1, 1)\n",
        "y_valid_reshaped = y_valid.reshape(-1, 1)\n",
        "y_test_reshaped = y_test.reshape(-1, 1)\n",
        "\n",
        "\n",
        "# Apply one-hot encoding\n",
        "y_train_encoded = encoder.fit_transform(y_train_reshaped)\n",
        "y_valid_encoded = encoder.transform(y_valid_reshaped)\n",
        "y_test_encoded = encoder.transform(y_test_reshaped)"
      ],
      "metadata": {
        "id": "teR0yhHlts-b"
      },
      "execution_count": 159,
      "outputs": []
    },
    {
      "cell_type": "code",
      "source": [
        "loss_ = [tf.keras.losses.CategoricalCrossentropy(),\n",
        "         tf.keras.losses.MSE]\n",
        "\n",
        "optimizers_ = [tf.keras.optimizers.legacy.Adam(learning_rate=0.001),\n",
        "               tf.keras.optimizers.legacy.RMSprop(learning_rate=0.001)]\n",
        "\n"
      ],
      "metadata": {
        "id": "_YyRYcqYxBBf"
      },
      "execution_count": 163,
      "outputs": []
    },
    {
      "cell_type": "code",
      "source": [],
      "metadata": {
        "id": "6ztjUcty4oJQ"
      },
      "execution_count": 164,
      "outputs": []
    },
    {
      "cell_type": "code",
      "source": [
        "for i in loss_:\n",
        "    for j in optimizers_:\n",
        "        model = tf.keras.Sequential()\n",
        "        model.add(tf.keras.layers.Dense(16, activation=\"relu\"))\n",
        "        model.add(tf.keras.layers.Dropout(0.4))\n",
        "        model.add(tf.keras.layers.Dense(16, activation=\"relu\"))\n",
        "        model.add(tf.keras.layers.Dropout(0.4))\n",
        "        model.add(tf.keras.layers.Dense(16, activation=\"relu\"))\n",
        "        model.add(tf.keras.layers.Dropout(0.4))\n",
        "        model.add(tf.keras.layers.Dense(5, activation=\"softmax\"))\n",
        "\n",
        "        model.compile(\n",
        "            optimizer=j,\n",
        "            loss=i,\n",
        "            metrics=['accuracy']\n",
        "        )\n",
        "\n",
        "        model.fit(X_train, y_train_encoded, batch_size=64, epochs=40, validation_data=(X_valid, y_valid_encoded), verbose=0, callbacks=[ProgbarLogger(count_mode='steps')])\n",
        "\n",
        "        accuracy = model.evaluate(X_test, y_test_encoded, verbose=0)[1]\n",
        "        print(f\"accuracy = {accuracy}\")\n"
      ],
      "metadata": {
        "colab": {
          "base_uri": "https://localhost:8080/"
        },
        "id": "PVNnqiqL3aQ-",
        "outputId": "d7cae959-f3e2-4de5-9995-4df1fe2eac5d"
      },
      "execution_count": 166,
      "outputs": [
        {
          "output_type": "stream",
          "name": "stdout",
          "text": [
            "accuracy = 0.6000000238418579\n",
            "accuracy = 0.6000000238418579\n",
            "accuracy = 0.699999988079071\n",
            "accuracy = 0.20000000298023224\n"
          ]
        }
      ]
    },
    {
      "cell_type": "code",
      "source": [],
      "metadata": {
        "id": "REdlgpAK4Qn5"
      },
      "execution_count": null,
      "outputs": []
    }
  ]
}